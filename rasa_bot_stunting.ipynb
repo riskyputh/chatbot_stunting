{
  "cells": [
    {
      "cell_type": "markdown",
      "metadata": {
        "id": "w_DrnkwFlT-G"
      },
      "source": [
        "**Rasa is Opensource Machine Learning framework used for developing AI based chatbot.**\n"
      ]
    },
    {
      "cell_type": "markdown",
      "source": [
        "There are 2 choices for the alternative python3 (providing /usr/bin/python3).\n",
        "setelah eksekusi pilihlah angka 0\n",
        "\n",
        "Press <enter> to keep the current choice[*], or type selection number: 0 <==== masukkan pilihan 0"
      ],
      "metadata": {
        "id": "IPurEFXpGkG-"
      }
    },
    {
      "cell_type": "code",
      "source": [
        "!sudo update-alternatives --config python3"
      ],
      "metadata": {
        "colab": {
          "base_uri": "https://localhost:8080/"
        },
        "id": "D8Ye8MvB3nQb",
        "outputId": "a924b29a-e4a6-4854-d995-b10552676706"
      },
      "execution_count": 1,
      "outputs": [
        {
          "output_type": "stream",
          "name": "stdout",
          "text": [
            "There are 2 choices for the alternative python3 (providing /usr/bin/python3).\n",
            "\n",
            "  Selection    Path                Priority   Status\n",
            "------------------------------------------------------------\n",
            "* 0            /usr/bin/python3.8   2         auto mode\n",
            "  1            /usr/bin/python3.6   1         manual mode\n",
            "  2            /usr/bin/python3.8   2         manual mode\n",
            "\n",
            "Press <enter> to keep the current choice[*], or type selection number: 0\n"
          ]
        }
      ]
    },
    {
      "cell_type": "code",
      "source": [
        "!pip install prompt-toolkit==2.0.1"
      ],
      "metadata": {
        "colab": {
          "base_uri": "https://localhost:8080/"
        },
        "id": "zpPAN3xh50tO",
        "outputId": "ce15364a-6730-443a-db39-6329e7d271a5"
      },
      "execution_count": 2,
      "outputs": [
        {
          "output_type": "stream",
          "name": "stdout",
          "text": [
            "Looking in indexes: https://pypi.org/simple, https://us-python.pkg.dev/colab-wheels/public/simple/\n",
            "Collecting prompt-toolkit==2.0.1\n",
            "  Downloading prompt_toolkit-2.0.1-py3-none-any.whl (322 kB)\n",
            "\u001b[2K     \u001b[90m━━━━━━━━━━━━━━━━━━━━━━━━━━━━━━━━━━━━━━━\u001b[0m \u001b[32m322.5/322.5 KB\u001b[0m \u001b[31m6.7 MB/s\u001b[0m eta \u001b[36m0:00:00\u001b[0m\n",
            "\u001b[?25hRequirement already satisfied: six>=1.9.0 in /usr/local/lib/python3.8/dist-packages (from prompt-toolkit==2.0.1) (1.15.0)\n",
            "Requirement already satisfied: wcwidth in /usr/local/lib/python3.8/dist-packages (from prompt-toolkit==2.0.1) (0.2.5)\n",
            "Installing collected packages: prompt-toolkit\n",
            "  Attempting uninstall: prompt-toolkit\n",
            "    Found existing installation: prompt-toolkit 2.0.10\n",
            "    Uninstalling prompt-toolkit-2.0.10:\n",
            "      Successfully uninstalled prompt-toolkit-2.0.10\n",
            "\u001b[31mERROR: pip's dependency resolver does not currently take into account all the packages that are installed. This behaviour is the source of the following dependency conflicts.\n",
            "ipython 7.9.0 requires jedi>=0.10, which is not installed.\u001b[0m\u001b[31m\n",
            "\u001b[0mSuccessfully installed prompt-toolkit-2.0.1\n"
          ]
        }
      ]
    },
    {
      "cell_type": "code",
      "execution_count": 3,
      "metadata": {
        "colab": {
          "base_uri": "https://localhost:8080/"
        },
        "id": "ffcul5QcvbFr",
        "outputId": "eebb77ed-e50b-4ca0-8a64-4b92e1fba8a1"
      },
      "outputs": [
        {
          "output_type": "stream",
          "name": "stdout",
          "text": [
            "Looking in indexes: https://pypi.org/simple, https://us-python.pkg.dev/colab-wheels/public/simple/\n",
            "Collecting rasa==2.0.1\n",
            "  Downloading rasa-2.0.1-py3-none-any.whl (621 kB)\n",
            "\u001b[2K     \u001b[90m━━━━━━━━━━━━━━━━━━━━━━━━━━━━━━━━━━━━━━\u001b[0m \u001b[32m621.4/621.4 KB\u001b[0m \u001b[31m11.4 MB/s\u001b[0m eta \u001b[36m0:00:00\u001b[0m\n",
            "\u001b[?25hCollecting cloudpickle<1.5,>=1.2\n",
            "  Downloading cloudpickle-1.4.1-py3-none-any.whl (26 kB)\n",
            "Collecting boto3<2.0,>=1.12\n",
            "  Downloading boto3-1.26.45-py3-none-any.whl (132 kB)\n",
            "\u001b[2K     \u001b[90m━━━━━━━━━━━━━━━━━━━━━━━━━━━━━━━━━━━━━━\u001b[0m \u001b[32m132.7/132.7 KB\u001b[0m \u001b[31m14.1 MB/s\u001b[0m eta \u001b[36m0:00:00\u001b[0m\n",
            "\u001b[?25hCollecting tqdm<4.51,>=4.31\n",
            "  Downloading tqdm-4.50.2-py2.py3-none-any.whl (70 kB)\n",
            "\u001b[2K     \u001b[90m━━━━━━━━━━━━━━━━━━━━━━━━━━━━━━━━━━━━━━━━\u001b[0m \u001b[32m70.9/70.9 KB\u001b[0m \u001b[31m8.0 MB/s\u001b[0m eta \u001b[36m0:00:00\u001b[0m\n",
            "\u001b[?25hCollecting pykwalify<1.8.0,>=1.7.0\n",
            "  Downloading pykwalify-1.7.0-py2.py3-none-any.whl (40 kB)\n",
            "\u001b[2K     \u001b[90m━━━━━━━━━━━━━━━━━━━━━━━━━━━━━━━━━━━━━━━━\u001b[0m \u001b[32m40.2/40.2 KB\u001b[0m \u001b[31m3.8 MB/s\u001b[0m eta \u001b[36m0:00:00\u001b[0m\n",
            "\u001b[?25hCollecting PyJWT<1.8,>=1.7\n",
            "  Downloading PyJWT-1.7.1-py2.py3-none-any.whl (18 kB)\n",
            "Collecting python-engineio<3.14,>=3.11\n",
            "  Downloading python_engineio-3.13.2-py2.py3-none-any.whl (50 kB)\n",
            "\u001b[2K     \u001b[90m━━━━━━━━━━━━━━━━━━━━━━━━━━━━━━━━━━━━━━━━\u001b[0m \u001b[32m50.2/50.2 KB\u001b[0m \u001b[31m5.0 MB/s\u001b[0m eta \u001b[36m0:00:00\u001b[0m\n",
            "\u001b[?25hCollecting sklearn-crfsuite<0.4,>=0.3\n",
            "  Downloading sklearn_crfsuite-0.3.6-py2.py3-none-any.whl (12 kB)\n",
            "Collecting fbmessenger<6.1.0,>=6.0.0\n",
            "  Downloading fbmessenger-6.0.0-py2.py3-none-any.whl (11 kB)\n",
            "Collecting ruamel.yaml<0.17,>=0.16\n",
            "  Downloading ruamel.yaml-0.16.13-py2.py3-none-any.whl (111 kB)\n",
            "\u001b[2K     \u001b[90m━━━━━━━━━━━━━━━━━━━━━━━━━━━━━━━━━━━━━━\u001b[0m \u001b[32m111.9/111.9 KB\u001b[0m \u001b[31m12.7 MB/s\u001b[0m eta \u001b[36m0:00:00\u001b[0m\n",
            "\u001b[?25hCollecting rasa-sdk<3.0.0,>=2.0.0\n",
            "  Downloading rasa_sdk-2.8.11-py3-none-any.whl (43 kB)\n",
            "\u001b[2K     \u001b[90m━━━━━━━━━━━━━━━━━━━━━━━━━━━━━━━━━━━━━━━━\u001b[0m \u001b[32m43.9/43.9 KB\u001b[0m \u001b[31m4.9 MB/s\u001b[0m eta \u001b[36m0:00:00\u001b[0m\n",
            "\u001b[?25hCollecting tensorflow-probability<0.12,>=0.11\n",
            "  Downloading tensorflow_probability-0.11.1-py2.py3-none-any.whl (4.3 MB)\n",
            "\u001b[2K     \u001b[90m━━━━━━━━━━━━━━━━━━━━━━━━━━━━━━━━━━━━━━━━\u001b[0m \u001b[32m4.3/4.3 MB\u001b[0m \u001b[31m65.5 MB/s\u001b[0m eta \u001b[36m0:00:00\u001b[0m\n",
            "\u001b[?25hCollecting scikit-learn<0.24,>=0.22\n",
            "  Downloading scikit_learn-0.23.2-cp38-cp38-manylinux1_x86_64.whl (6.8 MB)\n",
            "\u001b[2K     \u001b[90m━━━━━━━━━━━━━━━━━━━━━━━━━━━━━━━━━━━━━━━━\u001b[0m \u001b[32m6.8/6.8 MB\u001b[0m \u001b[31m70.6 MB/s\u001b[0m eta \u001b[36m0:00:00\u001b[0m\n",
            "\u001b[?25hCollecting questionary<1.6.0,>=1.5.1\n",
            "  Downloading questionary-1.5.2-py3-none-any.whl (26 kB)\n",
            "Collecting pika<1.2.0,>=1.1.0\n",
            "  Downloading pika-1.1.0-py2.py3-none-any.whl (148 kB)\n",
            "\u001b[2K     \u001b[90m━━━━━━━━━━━━━━━━━━━━━━━━━━━━━━━━━━━━━━\u001b[0m \u001b[32m148.7/148.7 KB\u001b[0m \u001b[31m16.2 MB/s\u001b[0m eta \u001b[36m0:00:00\u001b[0m\n",
            "\u001b[?25hCollecting rocketchat_API<1.10.0,>=0.6.31\n",
            "  Downloading rocketchat_API-1.9.1-py3-none-any.whl (9.8 kB)\n",
            "Collecting SQLAlchemy<1.4.0,>=1.3.3\n",
            "  Downloading SQLAlchemy-1.3.24-cp38-cp38-manylinux2010_x86_64.whl (1.3 MB)\n",
            "\u001b[2K     \u001b[90m━━━━━━━━━━━━━━━━━━━━━━━━━━━━━━━━━━━━━━━━\u001b[0m \u001b[32m1.3/1.3 MB\u001b[0m \u001b[31m50.3 MB/s\u001b[0m eta \u001b[36m0:00:00\u001b[0m\n",
            "\u001b[?25hCollecting psycopg2-binary<2.9.0,>=2.8.2\n",
            "  Downloading psycopg2_binary-2.8.6-cp38-cp38-manylinux1_x86_64.whl (3.0 MB)\n",
            "\u001b[2K     \u001b[90m━━━━━━━━━━━━━━━━━━━━━━━━━━━━━━━━━━━━━━━━\u001b[0m \u001b[32m3.0/3.0 MB\u001b[0m \u001b[31m63.0 MB/s\u001b[0m eta \u001b[36m0:00:00\u001b[0m\n",
            "\u001b[?25hRequirement already satisfied: requests<3.0,>=2.23 in /usr/local/lib/python3.8/dist-packages (from rasa==2.0.1) (2.25.1)\n",
            "Collecting sanic<21.0.0,>=19.12.2\n",
            "  Downloading sanic-20.12.7-py3-none-any.whl (80 kB)\n",
            "\u001b[2K     \u001b[90m━━━━━━━━━━━━━━━━━━━━━━━━━━━━━━━━━━━━━━━━\u001b[0m \u001b[32m80.4/80.4 KB\u001b[0m \u001b[31m8.8 MB/s\u001b[0m eta \u001b[36m0:00:00\u001b[0m\n",
            "\u001b[?25hCollecting tensorflow-estimator<2.4,>=2.3\n",
            "  Downloading tensorflow_estimator-2.3.0-py2.py3-none-any.whl (459 kB)\n",
            "\u001b[2K     \u001b[90m━━━━━━━━━━━━━━━━━━━━━━━━━━━━━━━━━━━━━━\u001b[0m \u001b[32m459.0/459.0 KB\u001b[0m \u001b[31m33.7 MB/s\u001b[0m eta \u001b[36m0:00:00\u001b[0m\n",
            "\u001b[?25hCollecting jsonschema<3.3,>=3.2\n",
            "  Downloading jsonschema-3.2.0-py2.py3-none-any.whl (56 kB)\n",
            "\u001b[2K     \u001b[90m━━━━━━━━━━━━━━━━━━━━━━━━━━━━━━━━━━━━━━━━\u001b[0m \u001b[32m56.3/56.3 KB\u001b[0m \u001b[31m5.3 MB/s\u001b[0m eta \u001b[36m0:00:00\u001b[0m\n",
            "\u001b[?25hCollecting slackclient<3.0.0,>=2.0.0\n",
            "  Downloading slackclient-2.9.4-py2.py3-none-any.whl (97 kB)\n",
            "\u001b[2K     \u001b[90m━━━━━━━━━━━━━━━━━━━━━━━━━━━━━━━━━━━━━━━━\u001b[0m \u001b[32m97.1/97.1 KB\u001b[0m \u001b[31m11.6 MB/s\u001b[0m eta \u001b[36m0:00:00\u001b[0m\n",
            "\u001b[?25hRequirement already satisfied: scipy<2.0.0,>=1.4.1 in /usr/local/lib/python3.8/dist-packages (from rasa==2.0.1) (1.7.3)\n",
            "Collecting aiohttp<3.7,>=3.6\n",
            "  Downloading aiohttp-3.6.3.tar.gz (1.1 MB)\n",
            "\u001b[2K     \u001b[90m━━━━━━━━━━━━━━━━━━━━━━━━━━━━━━━━━━━━━━━━\u001b[0m \u001b[32m1.1/1.1 MB\u001b[0m \u001b[31m50.3 MB/s\u001b[0m eta \u001b[36m0:00:00\u001b[0m\n",
            "\u001b[?25h  Installing build dependencies ... \u001b[?25l\u001b[?25hdone\n",
            "  Getting requirements to build wheel ... \u001b[?25l\u001b[?25hdone\n",
            "  Preparing metadata (pyproject.toml) ... \u001b[?25l\u001b[?25hdone\n",
            "Requirement already satisfied: python-dateutil<2.9,>=2.8 in /usr/local/lib/python3.8/dist-packages (from rasa==2.0.1) (2.8.2)\n",
            "Collecting terminaltables<3.2.0,>=3.1.0\n",
            "  Downloading terminaltables-3.1.10-py2.py3-none-any.whl (15 kB)\n",
            "Collecting multidict<5.0,>=4.6\n",
            "  Downloading multidict-4.7.6-cp38-cp38-manylinux1_x86_64.whl (162 kB)\n",
            "\u001b[2K     \u001b[90m━━━━━━━━━━━━━━━━━━━━━━━━━━━━━━━━━━━━━━\u001b[0m \u001b[32m162.9/162.9 KB\u001b[0m \u001b[31m18.2 MB/s\u001b[0m eta \u001b[36m0:00:00\u001b[0m\n",
            "\u001b[?25hCollecting networkx<2.6,>=2.4\n",
            "  Downloading networkx-2.5.1-py3-none-any.whl (1.6 MB)\n",
            "\u001b[2K     \u001b[90m━━━━━━━━━━━━━━━━━━━━━━━━━━━━━━━━━━━━━━━━\u001b[0m \u001b[32m1.6/1.6 MB\u001b[0m \u001b[31m65.8 MB/s\u001b[0m eta \u001b[36m0:00:00\u001b[0m\n",
            "\u001b[?25hCollecting apscheduler<3.7,>=3.6\n",
            "  Downloading APScheduler-3.6.3-py2.py3-none-any.whl (58 kB)\n",
            "\u001b[2K     \u001b[90m━━━━━━━━━━━━━━━━━━━━━━━━━━━━━━━━━━━━━━━━\u001b[0m \u001b[32m58.9/58.9 KB\u001b[0m \u001b[31m6.9 MB/s\u001b[0m eta \u001b[36m0:00:00\u001b[0m\n",
            "\u001b[?25hCollecting tensorflow<2.4,>=2.3\n",
            "  Downloading tensorflow-2.3.4-cp38-cp38-manylinux2010_x86_64.whl (320.7 MB)\n",
            "\u001b[2K     \u001b[90m━━━━━━━━━━━━━━━━━━━━━━━━━━━━━━━━━━━━━━━\u001b[0m \u001b[32m320.7/320.7 MB\u001b[0m \u001b[31m3.1 MB/s\u001b[0m eta \u001b[36m0:00:00\u001b[0m\n",
            "\u001b[?25hCollecting tensorflow-text<2.4,>=2.3\n",
            "  Downloading tensorflow_text-2.3.0-cp38-cp38-manylinux1_x86_64.whl (2.6 MB)\n",
            "\u001b[2K     \u001b[90m━━━━━━━━━━━━━━━━━━━━━━━━━━━━━━━━━━━━━━━━\u001b[0m \u001b[32m2.6/2.6 MB\u001b[0m \u001b[31m63.4 MB/s\u001b[0m eta \u001b[36m0:00:00\u001b[0m\n",
            "\u001b[?25hCollecting tensorflow-addons<=0.12,>=0.10\n",
            "  Downloading tensorflow_addons-0.12.0-cp38-cp38-manylinux2010_x86_64.whl (703 kB)\n",
            "\u001b[2K     \u001b[90m━━━━━━━━━━━━━━━━━━━━━━━━━━━━━━━━━━━━━━\u001b[0m \u001b[32m703.4/703.4 KB\u001b[0m \u001b[31m43.6 MB/s\u001b[0m eta \u001b[36m0:00:00\u001b[0m\n",
            "\u001b[?25hCollecting tensorflow_hub<0.10,>=0.9\n",
            "  Downloading tensorflow_hub-0.9.0-py2.py3-none-any.whl (103 kB)\n",
            "\u001b[2K     \u001b[90m━━━━━━━━━━━━━━━━━━━━━━━━━━━━━━━━━━━━━━\u001b[0m \u001b[32m103.3/103.3 KB\u001b[0m \u001b[31m12.9 MB/s\u001b[0m eta \u001b[36m0:00:00\u001b[0m\n",
            "\u001b[?25hCollecting joblib<0.16.0,>=0.15.1\n",
            "  Downloading joblib-0.15.1-py3-none-any.whl (298 kB)\n",
            "\u001b[2K     \u001b[90m━━━━━━━━━━━━━━━━━━━━━━━━━━━━━━━━━━━━━━\u001b[0m \u001b[32m298.9/298.9 KB\u001b[0m \u001b[31m29.1 MB/s\u001b[0m eta \u001b[36m0:00:00\u001b[0m\n",
            "\u001b[?25hCollecting mattermostwrapper<2.3,>=2.2\n",
            "  Downloading mattermostwrapper-2.2.tar.gz (2.5 kB)\n",
            "  Preparing metadata (setup.py) ... \u001b[?25l\u001b[?25hdone\n",
            "Requirement already satisfied: matplotlib<3.4,>=3.1 in /usr/local/lib/python3.8/dist-packages (from rasa==2.0.1) (3.2.2)\n",
            "Requirement already satisfied: oauth2client==4.1.3 in /usr/local/lib/python3.8/dist-packages (from rasa==2.0.1) (4.1.3)\n",
            "Collecting pytz<2021.0,>=2019.1\n",
            "  Downloading pytz-2020.5-py2.py3-none-any.whl (510 kB)\n",
            "\u001b[2K     \u001b[90m━━━━━━━━━━━━━━━━━━━━━━━━━━━━━━━━━━━━━━\u001b[0m \u001b[32m510.8/510.8 KB\u001b[0m \u001b[31m27.9 MB/s\u001b[0m eta \u001b[36m0:00:00\u001b[0m\n",
            "\u001b[?25hCollecting attrs<20.3,>=19.3\n",
            "  Downloading attrs-20.2.0-py2.py3-none-any.whl (48 kB)\n",
            "\u001b[2K     \u001b[90m━━━━━━━━━━━━━━━━━━━━━━━━━━━━━━━━━━━━━━━━\u001b[0m \u001b[32m48.1/48.1 KB\u001b[0m \u001b[31m5.0 MB/s\u001b[0m eta \u001b[36m0:00:00\u001b[0m\n",
            "\u001b[?25hCollecting regex<2020.10,>=2020.6\n",
            "  Downloading regex-2020.9.27-cp38-cp38-manylinux2010_x86_64.whl (675 kB)\n",
            "\u001b[2K     \u001b[90m━━━━━━━━━━━━━━━━━━━━━━━━━━━━━━━━━━━━━━\u001b[0m \u001b[32m675.1/675.1 KB\u001b[0m \u001b[31m29.9 MB/s\u001b[0m eta \u001b[36m0:00:00\u001b[0m\n",
            "\u001b[?25hCollecting python-socketio<4.7,>=4.4\n",
            "  Downloading python_socketio-4.6.1-py2.py3-none-any.whl (51 kB)\n",
            "\u001b[2K     \u001b[90m━━━━━━━━━━━━━━━━━━━━━━━━━━━━━━━━━━━━━━━━\u001b[0m \u001b[32m51.9/51.9 KB\u001b[0m \u001b[31m5.2 MB/s\u001b[0m eta \u001b[36m0:00:00\u001b[0m\n",
            "\u001b[?25hCollecting colorhash<1.1.0,>=1.0.2\n",
            "  Downloading colorhash-1.0.4-py3-none-any.whl (5.5 kB)\n",
            "Collecting packaging<21.0,>=20.0\n",
            "  Downloading packaging-20.9-py2.py3-none-any.whl (40 kB)\n",
            "\u001b[2K     \u001b[90m━━━━━━━━━━━━━━━━━━━━━━━━━━━━━━━━━━━━━━━━\u001b[0m \u001b[32m40.9/40.9 KB\u001b[0m \u001b[31m4.7 MB/s\u001b[0m eta \u001b[36m0:00:00\u001b[0m\n",
            "\u001b[?25hCollecting sentry-sdk<0.18.0,>=0.17.4\n",
            "  Downloading sentry_sdk-0.17.8-py2.py3-none-any.whl (120 kB)\n",
            "\u001b[2K     \u001b[90m━━━━━━━━━━━━━━━━━━━━━━━━━━━━━━━━━━━━━━\u001b[0m \u001b[32m120.2/120.2 KB\u001b[0m \u001b[31m14.3 MB/s\u001b[0m eta \u001b[36m0:00:00\u001b[0m\n",
            "\u001b[?25hCollecting twilio<6.46,>=6.26\n",
            "  Downloading twilio-6.45.4.tar.gz (457 kB)\n",
            "\u001b[2K     \u001b[90m━━━━━━━━━━━━━━━━━━━━━━━━━━━━━━━━━━━━━━\u001b[0m \u001b[32m457.5/457.5 KB\u001b[0m \u001b[31m26.2 MB/s\u001b[0m eta \u001b[36m0:00:00\u001b[0m\n",
            "\u001b[?25h  Preparing metadata (setup.py) ... \u001b[?25l\u001b[?25hdone\n",
            "Collecting pydot<1.5,>=1.4\n",
            "  Downloading pydot-1.4.2-py2.py3-none-any.whl (21 kB)\n",
            "Collecting kafka-python<3.0,>=1.4\n",
            "  Downloading kafka_python-2.0.2-py2.py3-none-any.whl (246 kB)\n",
            "\u001b[2K     \u001b[90m━━━━━━━━━━━━━━━━━━━━━━━━━━━━━━━━━━━━━━\u001b[0m \u001b[32m246.5/246.5 KB\u001b[0m \u001b[31m22.4 MB/s\u001b[0m eta \u001b[36m0:00:00\u001b[0m\n",
            "\u001b[?25hCollecting coloredlogs<15,>=10\n",
            "  Downloading coloredlogs-14.3-py2.py3-none-any.whl (44 kB)\n",
            "\u001b[2K     \u001b[90m━━━━━━━━━━━━━━━━━━━━━━━━━━━━━━━━━━━━━━━━\u001b[0m \u001b[32m44.9/44.9 KB\u001b[0m \u001b[31m4.9 MB/s\u001b[0m eta \u001b[36m0:00:00\u001b[0m\n",
            "\u001b[?25hCollecting absl-py<0.11,>=0.9\n",
            "  Downloading absl_py-0.10.0-py3-none-any.whl (127 kB)\n",
            "\u001b[2K     \u001b[90m━━━━━━━━━━━━━━━━━━━━━━━━━━━━━━━━━━━━━━\u001b[0m \u001b[32m127.5/127.5 KB\u001b[0m \u001b[31m14.2 MB/s\u001b[0m eta \u001b[36m0:00:00\u001b[0m\n",
            "\u001b[?25hCollecting ujson<4.0,>=1.35\n",
            "  Downloading ujson-3.2.0-cp38-cp38-manylinux1_x86_64.whl (181 kB)\n",
            "\u001b[2K     \u001b[90m━━━━━━━━━━━━━━━━━━━━━━━━━━━━━━━━━━━━━━\u001b[0m \u001b[32m181.1/181.1 KB\u001b[0m \u001b[31m17.8 MB/s\u001b[0m eta \u001b[36m0:00:00\u001b[0m\n",
            "\u001b[?25hCollecting async_generator<1.11,>=1.10\n",
            "  Downloading async_generator-1.10-py3-none-any.whl (18 kB)\n",
            "Collecting jsonpickle<1.5,>=1.3\n",
            "  Downloading jsonpickle-1.4.2-py2.py3-none-any.whl (36 kB)\n",
            "Collecting redis<4.0,>=3.4\n",
            "  Downloading redis-3.5.3-py2.py3-none-any.whl (72 kB)\n",
            "\u001b[2K     \u001b[90m━━━━━━━━━━━━━━━━━━━━━━━━━━━━━━━━━━━━━━━━\u001b[0m \u001b[32m72.1/72.1 KB\u001b[0m \u001b[31m7.9 MB/s\u001b[0m eta \u001b[36m0:00:00\u001b[0m\n",
            "\u001b[?25hCollecting colorclass<2.3,>=2.2\n",
            "  Downloading colorclass-2.2.2-py2.py3-none-any.whl (18 kB)\n",
            "Collecting pymongo[srv,tls]<3.11,>=3.8\n",
            "  Downloading pymongo-3.10.1-cp38-cp38-manylinux2014_x86_64.whl (480 kB)\n",
            "\u001b[2K     \u001b[90m━━━━━━━━━━━━━━━━━━━━━━━━━━━━━━━━━━━━━━\u001b[0m \u001b[32m480.1/480.1 KB\u001b[0m \u001b[31m36.3 MB/s\u001b[0m eta \u001b[36m0:00:00\u001b[0m\n",
            "\u001b[?25hRequirement already satisfied: prompt-toolkit<3.0,>=2.0 in /usr/local/lib/python3.8/dist-packages (from rasa==2.0.1) (2.0.1)\n",
            "Requirement already satisfied: setuptools>=41.0.0 in /usr/local/lib/python3.8/dist-packages (from rasa==2.0.1) (57.4.0)\n",
            "Collecting webexteamssdk<1.7.0,>=1.1.1\n",
            "  Downloading webexteamssdk-1.6.1-py3-none-any.whl (113 kB)\n",
            "\u001b[2K     \u001b[90m━━━━━━━━━━━━━━━━━━━━━━━━━━━━━━━━━━━━━━━\u001b[0m \u001b[32m113.5/113.5 KB\u001b[0m \u001b[31m9.4 MB/s\u001b[0m eta \u001b[36m0:00:00\u001b[0m\n",
            "\u001b[?25hRequirement already satisfied: numpy<2.0,>=1.16 in /usr/local/lib/python3.8/dist-packages (from rasa==2.0.1) (1.21.6)\n",
            "Collecting sanic-jwt<1.5.0,>=1.3.2\n",
            "  Downloading sanic-jwt-1.4.1.tar.gz (19 kB)\n",
            "  Preparing metadata (setup.py) ... \u001b[?25l\u001b[?25hdone\n",
            "Collecting python-telegram-bot<13.0,>=11.1\n",
            "  Downloading python_telegram_bot-12.8-py2.py3-none-any.whl (375 kB)\n",
            "\u001b[2K     \u001b[90m━━━━━━━━━━━━━━━━━━━━━━━━━━━━━━━━━━━━━━\u001b[0m \u001b[32m375.4/375.4 KB\u001b[0m \u001b[31m30.6 MB/s\u001b[0m eta \u001b[36m0:00:00\u001b[0m\n",
            "\u001b[?25hCollecting sanic-cors<0.11.0,>=0.10.0b1\n",
            "  Downloading Sanic_Cors-0.10.0.post3-py2.py3-none-any.whl (17 kB)\n",
            "Requirement already satisfied: httplib2>=0.9.1 in /usr/local/lib/python3.8/dist-packages (from oauth2client==4.1.3->rasa==2.0.1) (0.17.4)\n",
            "Requirement already satisfied: six>=1.6.1 in /usr/local/lib/python3.8/dist-packages (from oauth2client==4.1.3->rasa==2.0.1) (1.15.0)\n",
            "Requirement already satisfied: rsa>=3.1.4 in /usr/local/lib/python3.8/dist-packages (from oauth2client==4.1.3->rasa==2.0.1) (4.9)\n",
            "Requirement already satisfied: pyasn1>=0.1.7 in /usr/local/lib/python3.8/dist-packages (from oauth2client==4.1.3->rasa==2.0.1) (0.4.8)\n",
            "Requirement already satisfied: pyasn1-modules>=0.0.5 in /usr/local/lib/python3.8/dist-packages (from oauth2client==4.1.3->rasa==2.0.1) (0.2.8)\n",
            "Collecting async-timeout<4.0,>=3.0\n",
            "  Downloading async_timeout-3.0.1-py3-none-any.whl (8.2 kB)\n",
            "Collecting yarl<1.6.0,>=1.0\n",
            "  Downloading yarl-1.5.1-cp38-cp38-manylinux1_x86_64.whl (262 kB)\n",
            "\u001b[2K     \u001b[90m━━━━━━━━━━━━━━━━━━━━━━━━━━━━━━━━━━━━━━\u001b[0m \u001b[32m262.2/262.2 KB\u001b[0m \u001b[31m24.7 MB/s\u001b[0m eta \u001b[36m0:00:00\u001b[0m\n",
            "\u001b[?25hCollecting chardet<4.0,>=2.0\n",
            "  Downloading chardet-3.0.4-py2.py3-none-any.whl (133 kB)\n",
            "\u001b[2K     \u001b[90m━━━━━━━━━━━━━━━━━━━━━━━━━━━━━━━━━━━━━━\u001b[0m \u001b[32m133.4/133.4 KB\u001b[0m \u001b[31m15.0 MB/s\u001b[0m eta \u001b[36m0:00:00\u001b[0m\n",
            "\u001b[?25hRequirement already satisfied: tzlocal>=1.2 in /usr/local/lib/python3.8/dist-packages (from apscheduler<3.7,>=3.6->rasa==2.0.1) (1.5.1)\n",
            "Collecting s3transfer<0.7.0,>=0.6.0\n",
            "  Downloading s3transfer-0.6.0-py3-none-any.whl (79 kB)\n",
            "\u001b[2K     \u001b[90m━━━━━━━━━━━━━━━━━━━━━━━━━━━━━━━━━━━━━━━━\u001b[0m \u001b[32m79.6/79.6 KB\u001b[0m \u001b[31m7.8 MB/s\u001b[0m eta \u001b[36m0:00:00\u001b[0m\n",
            "\u001b[?25hCollecting botocore<1.30.0,>=1.29.45\n",
            "  Downloading botocore-1.29.45-py3-none-any.whl (10.3 MB)\n",
            "\u001b[2K     \u001b[90m━━━━━━━━━━━━━━━━━━━━━━━━━━━━━━━━━━━━━━━━\u001b[0m \u001b[32m10.3/10.3 MB\u001b[0m \u001b[31m82.0 MB/s\u001b[0m eta \u001b[36m0:00:00\u001b[0m\n",
            "\u001b[?25hCollecting jmespath<2.0.0,>=0.7.1\n",
            "  Downloading jmespath-1.0.1-py3-none-any.whl (20 kB)\n",
            "Collecting humanfriendly>=7.1\n",
            "  Downloading humanfriendly-10.0-py2.py3-none-any.whl (86 kB)\n",
            "\u001b[2K     \u001b[90m━━━━━━━━━━━━━━━━━━━━━━━━━━━━━━━━━━━━━━━━\u001b[0m \u001b[32m86.8/86.8 KB\u001b[0m \u001b[31m10.5 MB/s\u001b[0m eta \u001b[36m0:00:00\u001b[0m\n",
            "\u001b[?25hRequirement already satisfied: pyrsistent>=0.14.0 in /usr/local/lib/python3.8/dist-packages (from jsonschema<3.3,>=3.2->rasa==2.0.1) (0.19.2)\n",
            "Requirement already satisfied: kiwisolver>=1.0.1 in /usr/local/lib/python3.8/dist-packages (from matplotlib<3.4,>=3.1->rasa==2.0.1) (1.4.4)\n",
            "Requirement already satisfied: cycler>=0.10 in /usr/local/lib/python3.8/dist-packages (from matplotlib<3.4,>=3.1->rasa==2.0.1) (0.11.0)\n",
            "Requirement already satisfied: pyparsing!=2.0.4,!=2.1.2,!=2.1.6,>=2.0.1 in /usr/local/lib/python3.8/dist-packages (from matplotlib<3.4,>=3.1->rasa==2.0.1) (3.0.9)\n",
            "Requirement already satisfied: decorator<5,>=4.3 in /usr/local/lib/python3.8/dist-packages (from networkx<2.6,>=2.4->rasa==2.0.1) (4.4.2)\n",
            "Requirement already satisfied: wcwidth in /usr/local/lib/python3.8/dist-packages (from prompt-toolkit<3.0,>=2.0->rasa==2.0.1) (0.2.5)\n",
            "Requirement already satisfied: PyYAML>=3.11 in /usr/local/lib/python3.8/dist-packages (from pykwalify<1.8.0,>=1.7.0->rasa==2.0.1) (6.0)\n",
            "Collecting docopt>=0.6.2\n",
            "  Downloading docopt-0.6.2.tar.gz (25 kB)\n",
            "  Preparing metadata (setup.py) ... \u001b[?25l\u001b[?25hdone\n",
            "Collecting dnspython<2.0.0,>=1.16.0\n",
            "  Downloading dnspython-1.16.0-py2.py3-none-any.whl (188 kB)\n",
            "\u001b[2K     \u001b[90m━━━━━━━━━━━━━━━━━━━━━━━━━━━━━━━━━━━━━━\u001b[0m \u001b[32m188.4/188.4 KB\u001b[0m \u001b[31m20.1 MB/s\u001b[0m eta \u001b[36m0:00:00\u001b[0m\n",
            "\u001b[?25hCollecting cryptography\n",
            "  Downloading cryptography-39.0.0-cp36-abi3-manylinux_2_24_x86_64.whl (4.1 MB)\n",
            "\u001b[2K     \u001b[90m━━━━━━━━━━━━━━━━━━━━━━━━━━━━━━━━━━━━━━━━\u001b[0m \u001b[32m4.1/4.1 MB\u001b[0m \u001b[31m66.9 MB/s\u001b[0m eta \u001b[36m0:00:00\u001b[0m\n",
            "\u001b[?25hRequirement already satisfied: tornado>=5.1 in /usr/local/lib/python3.8/dist-packages (from python-telegram-bot<13.0,>=11.1->rasa==2.0.1) (6.0.4)\n",
            "Requirement already satisfied: certifi in /usr/local/lib/python3.8/dist-packages (from python-telegram-bot<13.0,>=11.1->rasa==2.0.1) (2022.12.7)\n",
            "Collecting rasa-sdk<3.0.0,>=2.0.0\n",
            "  Downloading rasa_sdk-2.8.10-py3-none-any.whl (43 kB)\n",
            "\u001b[2K     \u001b[90m━━━━━━━━━━━━━━━━━━━━━━━━━━━━━━━━━━━━━━━━\u001b[0m \u001b[32m43.7/43.7 KB\u001b[0m \u001b[31m4.5 MB/s\u001b[0m eta \u001b[36m0:00:00\u001b[0m\n",
            "\u001b[?25h  Downloading rasa_sdk-2.8.9-py3-none-any.whl (43 kB)\n",
            "\u001b[2K     \u001b[90m━━━━━━━━━━━━━━━━━━━━━━━━━━━━━━━━━━━━━━━━\u001b[0m \u001b[32m43.6/43.6 KB\u001b[0m \u001b[31m4.6 MB/s\u001b[0m eta \u001b[36m0:00:00\u001b[0m\n",
            "\u001b[?25h  Downloading rasa_sdk-2.8.8-py3-none-any.whl (43 kB)\n",
            "\u001b[2K     \u001b[90m━━━━━━━━━━━━━━━━━━━━━━━━━━━━━━━━━━━━━━━━\u001b[0m \u001b[32m43.6/43.6 KB\u001b[0m \u001b[31m4.7 MB/s\u001b[0m eta \u001b[36m0:00:00\u001b[0m\n",
            "\u001b[?25h  Downloading rasa_sdk-2.8.7-py3-none-any.whl (43 kB)\n",
            "\u001b[2K     \u001b[90m━━━━━━━━━━━━━━━━━━━━━━━━━━━━━━━━━━━━━━━━\u001b[0m \u001b[32m43.6/43.6 KB\u001b[0m \u001b[31m3.9 MB/s\u001b[0m eta \u001b[36m0:00:00\u001b[0m\n",
            "\u001b[?25h  Downloading rasa_sdk-2.8.6-py3-none-any.whl (43 kB)\n",
            "\u001b[2K     \u001b[90m━━━━━━━━━━━━━━━━━━━━━━━━━━━━━━━━━━━━━━━━\u001b[0m \u001b[32m43.6/43.6 KB\u001b[0m \u001b[31m5.0 MB/s\u001b[0m eta \u001b[36m0:00:00\u001b[0m\n",
            "\u001b[?25hCollecting typing-extensions<4.0.0,>=3.7.4\n",
            "  Downloading typing_extensions-3.10.0.2-py3-none-any.whl (26 kB)\n",
            "Collecting uvloop<0.15.0\n",
            "  Downloading uvloop-0.14.0-cp38-cp38-manylinux2010_x86_64.whl (4.7 MB)\n",
            "\u001b[2K     \u001b[90m━━━━━━━━━━━━━━━━━━━━━━━━━━━━━━━━━━━━━━━━\u001b[0m \u001b[32m4.7/4.7 MB\u001b[0m \u001b[31m66.2 MB/s\u001b[0m eta \u001b[36m0:00:00\u001b[0m\n",
            "\u001b[?25hCollecting urllib3<2.0.0,>=1.26.5\n",
            "  Downloading urllib3-1.26.13-py2.py3-none-any.whl (140 kB)\n",
            "\u001b[2K     \u001b[90m━━━━━━━━━━━━━━━━━━━━━━━━━━━━━━━━━━━━━━\u001b[0m \u001b[32m140.6/140.6 KB\u001b[0m \u001b[31m14.0 MB/s\u001b[0m eta \u001b[36m0:00:00\u001b[0m\n",
            "\u001b[?25hRequirement already satisfied: idna<3,>=2.5 in /usr/local/lib/python3.8/dist-packages (from requests<3.0,>=2.23->rasa==2.0.1) (2.10)\n",
            "Collecting ruamel.yaml.clib>=0.1.2\n",
            "  Downloading ruamel.yaml.clib-0.2.7-cp38-cp38-manylinux_2_17_x86_64.manylinux2014_x86_64.manylinux_2_24_x86_64.whl (555 kB)\n",
            "\u001b[2K     \u001b[90m━━━━━━━━━━━━━━━━━━━━━━━━━━━━━━━━━━━━━━\u001b[0m \u001b[32m555.3/555.3 KB\u001b[0m \u001b[31m32.5 MB/s\u001b[0m eta \u001b[36m0:00:00\u001b[0m\n",
            "\u001b[?25hCollecting httptools>=0.0.10\n",
            "  Downloading httptools-0.5.0-cp38-cp38-manylinux_2_5_x86_64.manylinux1_x86_64.manylinux_2_17_x86_64.manylinux2014_x86_64.whl (427 kB)\n",
            "\u001b[2K     \u001b[90m━━━━━━━━━━━━━━━━━━━━━━━━━━━━━━━━━━━━━━\u001b[0m \u001b[32m427.8/427.8 KB\u001b[0m \u001b[31m27.0 MB/s\u001b[0m eta \u001b[36m0:00:00\u001b[0m\n",
            "\u001b[?25hCollecting websockets<=9.1,>=8.1\n",
            "  Downloading websockets-9.1-cp38-cp38-manylinux2010_x86_64.whl (102 kB)\n",
            "\u001b[2K     \u001b[90m━━━━━━━━━━━━━━━━━━━━━━━━━━━━━━━━━━━━━━\u001b[0m \u001b[32m102.3/102.3 KB\u001b[0m \u001b[31m11.4 MB/s\u001b[0m eta \u001b[36m0:00:00\u001b[0m\n",
            "\u001b[?25hCollecting aiofiles>=0.6.0\n",
            "  Downloading aiofiles-22.1.0-py3-none-any.whl (14 kB)\n",
            "Collecting sanic<21.0.0,>=19.12.2\n",
            "  Downloading sanic-20.12.6-py3-none-any.whl (80 kB)\n",
            "\u001b[2K     \u001b[90m━━━━━━━━━━━━━━━━━━━━━━━━━━━━━━━━━━━━━━━━\u001b[0m \u001b[32m80.5/80.5 KB\u001b[0m \u001b[31m9.7 MB/s\u001b[0m eta \u001b[36m0:00:00\u001b[0m\n",
            "\u001b[?25h  Downloading sanic-20.12.5-py3-none-any.whl (80 kB)\n",
            "\u001b[2K     \u001b[90m━━━━━━━━━━━━━━━━━━━━━━━━━━━━━━━━━━━━━━━━\u001b[0m \u001b[32m80.2/80.2 KB\u001b[0m \u001b[31m9.2 MB/s\u001b[0m eta \u001b[36m0:00:00\u001b[0m\n",
            "\u001b[?25h  Downloading sanic-20.12.4-py3-none-any.whl (80 kB)\n",
            "\u001b[2K     \u001b[90m━━━━━━━━━━━━━━━━━━━━━━━━━━━━━━━━━━━━━━━━\u001b[0m \u001b[32m80.2/80.2 KB\u001b[0m \u001b[31m9.6 MB/s\u001b[0m eta \u001b[36m0:00:00\u001b[0m\n",
            "\u001b[?25hCollecting websockets<9.0,>=8.1\n",
            "  Downloading websockets-8.1-cp38-cp38-manylinux2010_x86_64.whl (78 kB)\n",
            "\u001b[2K     \u001b[90m━━━━━━━━━━━━━━━━━━━━━━━━━━━━━━━━━━━━━━━━\u001b[0m \u001b[32m78.4/78.4 KB\u001b[0m \u001b[31m8.7 MB/s\u001b[0m eta \u001b[36m0:00:00\u001b[0m\n",
            "\u001b[?25hCollecting sanic<21.0.0,>=19.12.2\n",
            "  Downloading sanic-20.12.3-py3-none-any.whl (80 kB)\n",
            "\u001b[2K     \u001b[90m━━━━━━━━━━━━━━━━━━━━━━━━━━━━━━━━━━━━━━━━\u001b[0m \u001b[32m80.2/80.2 KB\u001b[0m \u001b[31m9.1 MB/s\u001b[0m eta \u001b[36m0:00:00\u001b[0m\n",
            "\u001b[?25h  Downloading sanic-20.12.2-py3-none-any.whl (79 kB)\n",
            "\u001b[2K     \u001b[90m━━━━━━━━━━━━━━━━━━━━━━━━━━━━━━━━━━━━━━━━\u001b[0m \u001b[32m79.9/79.9 KB\u001b[0m \u001b[31m9.0 MB/s\u001b[0m eta \u001b[36m0:00:00\u001b[0m\n",
            "\u001b[?25h  Downloading sanic-20.12.1-py3-none-any.whl (79 kB)\n",
            "\u001b[2K     \u001b[90m━━━━━━━━━━━━━━━━━━━━━━━━━━━━━━━━━━━━━━━━\u001b[0m \u001b[32m79.9/79.9 KB\u001b[0m \u001b[31m9.8 MB/s\u001b[0m eta \u001b[36m0:00:00\u001b[0m\n",
            "\u001b[?25h  Downloading sanic-20.12.0-py3-none-any.whl (79 kB)\n",
            "\u001b[2K     \u001b[90m━━━━━━━━━━━━━━━━━━━━━━━━━━━━━━━━━━━━━━━━\u001b[0m \u001b[32m79.8/79.8 KB\u001b[0m \u001b[31m7.1 MB/s\u001b[0m eta \u001b[36m0:00:00\u001b[0m\n",
            "\u001b[?25h  Downloading sanic-20.9.1-py3-none-any.whl (79 kB)\n",
            "\u001b[2K     \u001b[90m━━━━━━━━━━━━━━━━━━━━━━━━━━━━━━━━━━━━━━━━\u001b[0m \u001b[32m79.2/79.2 KB\u001b[0m \u001b[31m9.0 MB/s\u001b[0m eta \u001b[36m0:00:00\u001b[0m\n",
            "\u001b[?25hCollecting httpx==0.15.4\n",
            "  Downloading httpx-0.15.4-py3-none-any.whl (65 kB)\n",
            "\u001b[2K     \u001b[90m━━━━━━━━━━━━━━━━━━━━━━━━━━━━━━━━━━━━━━━━\u001b[0m \u001b[32m65.1/65.1 KB\u001b[0m \u001b[31m5.6 MB/s\u001b[0m eta \u001b[36m0:00:00\u001b[0m\n",
            "\u001b[?25hCollecting sanic<21.0.0,>=19.12.2\n",
            "  Downloading sanic-20.9.0-py3-none-any.whl (79 kB)\n",
            "\u001b[2K     \u001b[90m━━━━━━━━━━━━━━━━━━━━━━━━━━━━━━━━━━━━━━━━\u001b[0m \u001b[32m79.1/79.1 KB\u001b[0m \u001b[31m9.5 MB/s\u001b[0m eta \u001b[36m0:00:00\u001b[0m\n",
            "\u001b[?25hCollecting httpcore==0.11.*\n",
            "  Downloading httpcore-0.11.1-py3-none-any.whl (52 kB)\n",
            "\u001b[2K     \u001b[90m━━━━━━━━━━━━━━━━━━━━━━━━━━━━━━━━━━━━━━━━\u001b[0m \u001b[32m52.8/52.8 KB\u001b[0m \u001b[31m6.0 MB/s\u001b[0m eta \u001b[36m0:00:00\u001b[0m\n",
            "\u001b[?25hCollecting rfc3986[idna2008]<2,>=1.3\n",
            "  Downloading rfc3986-1.5.0-py2.py3-none-any.whl (31 kB)\n",
            "Collecting sniffio\n",
            "  Downloading sniffio-1.3.0-py3-none-any.whl (10 kB)\n",
            "Collecting h11<0.10,>=0.8\n",
            "  Downloading h11-0.9.0-py2.py3-none-any.whl (53 kB)\n",
            "\u001b[2K     \u001b[90m━━━━━━━━━━━━━━━━━━━━━━━━━━━━━━━━━━━━━━━━\u001b[0m \u001b[32m53.6/53.6 KB\u001b[0m \u001b[31m6.2 MB/s\u001b[0m eta \u001b[36m0:00:00\u001b[0m\n",
            "\u001b[?25hCollecting sanic-plugins-framework>=0.9.0\n",
            "  Downloading Sanic_Plugins_Framework-0.9.5-py2.py3-none-any.whl (23 kB)\n",
            "Requirement already satisfied: threadpoolctl>=2.0.0 in /usr/local/lib/python3.8/dist-packages (from scikit-learn<0.24,>=0.22->rasa==2.0.1) (3.1.0)\n",
            "Collecting python-crfsuite>=0.8.3\n",
            "  Downloading python_crfsuite-0.9.8-cp38-cp38-manylinux_2_17_x86_64.manylinux2014_x86_64.whl (1.0 MB)\n",
            "\u001b[2K     \u001b[90m━━━━━━━━━━━━━━━━━━━━━━━━━━━━━━━━━━━━━━━━\u001b[0m \u001b[32m1.0/1.0 MB\u001b[0m \u001b[31m36.7 MB/s\u001b[0m eta \u001b[36m0:00:00\u001b[0m\n",
            "\u001b[?25hRequirement already satisfied: tabulate in /usr/local/lib/python3.8/dist-packages (from sklearn-crfsuite<0.4,>=0.3->rasa==2.0.1) (0.8.10)\n",
            "Requirement already satisfied: google-pasta>=0.1.8 in /usr/local/lib/python3.8/dist-packages (from tensorflow<2.4,>=2.3->rasa==2.0.1) (0.2.0)\n",
            "Requirement already satisfied: termcolor>=1.1.0 in /usr/local/lib/python3.8/dist-packages (from tensorflow<2.4,>=2.3->rasa==2.0.1) (2.1.1)\n",
            "Collecting h5py<2.11.0,>=2.10.0\n",
            "  Downloading h5py-2.10.0-cp38-cp38-manylinux1_x86_64.whl (2.9 MB)\n",
            "\u001b[2K     \u001b[90m━━━━━━━━━━━━━━━━━━━━━━━━━━━━━━━━━━━━━━━━\u001b[0m \u001b[32m2.9/2.9 MB\u001b[0m \u001b[31m33.2 MB/s\u001b[0m eta \u001b[36m0:00:00\u001b[0m\n",
            "\u001b[?25hRequirement already satisfied: astunparse==1.6.3 in /usr/local/lib/python3.8/dist-packages (from tensorflow<2.4,>=2.3->rasa==2.0.1) (1.6.3)\n",
            "Collecting numpy<2.0,>=1.16\n",
            "  Downloading numpy-1.18.5-cp38-cp38-manylinux1_x86_64.whl (20.6 MB)\n",
            "\u001b[2K     \u001b[90m━━━━━━━━━━━━━━━━━━━━━━━━━━━━━━━━━━━━━━━━\u001b[0m \u001b[32m20.6/20.6 MB\u001b[0m \u001b[31m43.1 MB/s\u001b[0m eta \u001b[36m0:00:00\u001b[0m\n",
            "\u001b[?25hRequirement already satisfied: protobuf>=3.9.2 in /usr/local/lib/python3.8/dist-packages (from tensorflow<2.4,>=2.3->rasa==2.0.1) (3.19.6)\n",
            "Requirement already satisfied: wheel>=0.26 in /usr/local/lib/python3.8/dist-packages (from tensorflow<2.4,>=2.3->rasa==2.0.1) (0.38.4)\n",
            "Requirement already satisfied: grpcio>=1.8.6 in /usr/local/lib/python3.8/dist-packages (from tensorflow<2.4,>=2.3->rasa==2.0.1) (1.51.1)\n",
            "Collecting gast==0.3.3\n",
            "  Downloading gast-0.3.3-py2.py3-none-any.whl (9.7 kB)\n",
            "Requirement already satisfied: keras-preprocessing<1.2,>=1.1.1 in /usr/local/lib/python3.8/dist-packages (from tensorflow<2.4,>=2.3->rasa==2.0.1) (1.1.2)\n",
            "Requirement already satisfied: opt-einsum>=2.3.2 in /usr/local/lib/python3.8/dist-packages (from tensorflow<2.4,>=2.3->rasa==2.0.1) (3.3.0)\n",
            "Requirement already satisfied: tensorboard<3,>=2.3.0 in /usr/local/lib/python3.8/dist-packages (from tensorflow<2.4,>=2.3->rasa==2.0.1) (2.9.1)\n",
            "Requirement already satisfied: wrapt>=1.11.1 in /usr/local/lib/python3.8/dist-packages (from tensorflow<2.4,>=2.3->rasa==2.0.1) (1.14.1)\n",
            "Requirement already satisfied: typeguard>=2.7 in /usr/local/lib/python3.8/dist-packages (from tensorflow-addons<=0.12,>=0.10->rasa==2.0.1) (2.7.1)\n",
            "Requirement already satisfied: dm-tree in /usr/local/lib/python3.8/dist-packages (from tensorflow-probability<0.12,>=0.11->rasa==2.0.1) (0.1.8)\n",
            "Collecting requests-toolbelt\n",
            "  Downloading requests_toolbelt-0.10.1-py2.py3-none-any.whl (54 kB)\n",
            "\u001b[2K     \u001b[90m━━━━━━━━━━━━━━━━━━━━━━━━━━━━━━━━━━━━━━━━\u001b[0m \u001b[32m54.5/54.5 KB\u001b[0m \u001b[31m6.7 MB/s\u001b[0m eta \u001b[36m0:00:00\u001b[0m\n",
            "\u001b[?25hRequirement already satisfied: future in /usr/local/lib/python3.8/dist-packages (from webexteamssdk<1.7.0,>=1.1.1->rasa==2.0.1) (0.16.0)\n",
            "Requirement already satisfied: google-auth-oauthlib<0.5,>=0.4.1 in /usr/local/lib/python3.8/dist-packages (from tensorboard<3,>=2.3.0->tensorflow<2.4,>=2.3->rasa==2.0.1) (0.4.6)\n",
            "Requirement already satisfied: tensorboard-data-server<0.7.0,>=0.6.0 in /usr/local/lib/python3.8/dist-packages (from tensorboard<3,>=2.3.0->tensorflow<2.4,>=2.3->rasa==2.0.1) (0.6.1)\n",
            "Requirement already satisfied: werkzeug>=1.0.1 in /usr/local/lib/python3.8/dist-packages (from tensorboard<3,>=2.3.0->tensorflow<2.4,>=2.3->rasa==2.0.1) (1.0.1)\n",
            "Requirement already satisfied: markdown>=2.6.8 in /usr/local/lib/python3.8/dist-packages (from tensorboard<3,>=2.3.0->tensorflow<2.4,>=2.3->rasa==2.0.1) (3.4.1)\n",
            "Requirement already satisfied: tensorboard-plugin-wit>=1.6.0 in /usr/local/lib/python3.8/dist-packages (from tensorboard<3,>=2.3.0->tensorflow<2.4,>=2.3->rasa==2.0.1) (1.8.1)\n",
            "Requirement already satisfied: google-auth<3,>=1.6.3 in /usr/local/lib/python3.8/dist-packages (from tensorboard<3,>=2.3.0->tensorflow<2.4,>=2.3->rasa==2.0.1) (2.15.0)\n",
            "Requirement already satisfied: cffi>=1.12 in /usr/local/lib/python3.8/dist-packages (from cryptography->python-telegram-bot<13.0,>=11.1->rasa==2.0.1) (1.15.1)\n",
            "Requirement already satisfied: pycparser in /usr/local/lib/python3.8/dist-packages (from cffi>=1.12->cryptography->python-telegram-bot<13.0,>=11.1->rasa==2.0.1) (2.21)\n",
            "Requirement already satisfied: cachetools<6.0,>=2.0.0 in /usr/local/lib/python3.8/dist-packages (from google-auth<3,>=1.6.3->tensorboard<3,>=2.3.0->tensorflow<2.4,>=2.3->rasa==2.0.1) (5.2.0)\n",
            "Requirement already satisfied: requests-oauthlib>=0.7.0 in /usr/local/lib/python3.8/dist-packages (from google-auth-oauthlib<0.5,>=0.4.1->tensorboard<3,>=2.3.0->tensorflow<2.4,>=2.3->rasa==2.0.1) (1.3.1)\n",
            "Requirement already satisfied: importlib-metadata>=4.4 in /usr/local/lib/python3.8/dist-packages (from markdown>=2.6.8->tensorboard<3,>=2.3.0->tensorflow<2.4,>=2.3->rasa==2.0.1) (5.2.0)\n",
            "Requirement already satisfied: zipp>=0.5 in /usr/local/lib/python3.8/dist-packages (from importlib-metadata>=4.4->markdown>=2.6.8->tensorboard<3,>=2.3.0->tensorflow<2.4,>=2.3->rasa==2.0.1) (3.11.0)\n",
            "Requirement already satisfied: oauthlib>=3.0.0 in /usr/local/lib/python3.8/dist-packages (from requests-oauthlib>=0.7.0->google-auth-oauthlib<0.5,>=0.4.1->tensorboard<3,>=2.3.0->tensorflow<2.4,>=2.3->rasa==2.0.1) (3.2.2)\n",
            "Building wheels for collected packages: aiohttp, mattermostwrapper, sanic-jwt, twilio, docopt\n",
            "  Building wheel for aiohttp (pyproject.toml) ... \u001b[?25l\u001b[?25hdone\n",
            "  Created wheel for aiohttp: filename=aiohttp-3.6.3-cp38-cp38-linux_x86_64.whl size=1228869 sha256=8da67f131ad581f71d7f755d389ada1d1eba2c4f9be26fe10e9c9a7b23d8330c\n",
            "  Stored in directory: /root/.cache/pip/wheels/2d/6d/bb/486f8c893f1dcc917860a5b3e2f2ca286c398f7d548ffc649c\n",
            "  Building wheel for mattermostwrapper (setup.py) ... \u001b[?25l\u001b[?25hdone\n",
            "  Created wheel for mattermostwrapper: filename=mattermostwrapper-2.2-py3-none-any.whl size=2464 sha256=0f6d2fca94ec083bd53031c3c7c165084fa79f042edbef1c27290f26e5086841\n",
            "  Stored in directory: /root/.cache/pip/wheels/1a/d3/89/63aef88b581e7acc2c48812e6160a2bae57b6ef180f6e1f293\n",
            "  Building wheel for sanic-jwt (setup.py) ... \u001b[?25l\u001b[?25hdone\n",
            "  Created wheel for sanic-jwt: filename=sanic_jwt-1.4.1-py3-none-any.whl size=21615 sha256=1fb3a49173d45a3e32fa8bfa2bac7e0a5dd9d0b37e4979dbb37148e41818c28b\n",
            "  Stored in directory: /root/.cache/pip/wheels/e3/20/a2/d1e894c0ef62547559ba0cca55e27dc5dcf65ad87abea69d32\n",
            "  Building wheel for twilio (setup.py) ... \u001b[?25l\u001b[?25hdone\n",
            "  Created wheel for twilio: filename=twilio-6.45.4-py2.py3-none-any.whl size=1211608 sha256=1d4d554345d701c94c98e175e31c88500127ee1da0d83e1583a2743f432898f0\n",
            "  Stored in directory: /root/.cache/pip/wheels/cd/d4/31/74e1cb4f74bd72a0e74d6fbb28f5093b9a2168df275aa59440\n",
            "  Building wheel for docopt (setup.py) ... \u001b[?25l\u001b[?25hdone\n",
            "  Created wheel for docopt: filename=docopt-0.6.2-py2.py3-none-any.whl size=13723 sha256=e46119bf15a2d1e720706ee38c4401eccc63b404d794a2876e4e9ea691e67e08\n",
            "  Stored in directory: /root/.cache/pip/wheels/56/ea/58/ead137b087d9e326852a851351d1debf4ada529b6ac0ec4e8c\n",
            "Successfully built aiohttp mattermostwrapper sanic-jwt twilio docopt\n",
            "Installing collected packages: uvloop, typing-extensions, tensorflow-estimator, rfc3986, regex, pytz, python-crfsuite, PyJWT, pika, kafka-python, h11, docopt, chardet, websockets, urllib3, ujson, tqdm, terminaltables, tensorflow-addons, SQLAlchemy, sniffio, sanic-jwt, ruamel.yaml.clib, redis, python-engineio, pymongo, pydot, psycopg2-binary, packaging, numpy, networkx, multidict, jsonpickle, joblib, jmespath, humanfriendly, httptools, gast, dnspython, colorhash, colorclass, cloudpickle, attrs, async-timeout, async_generator, aiofiles, absl-py, yarl, tensorflow-probability, tensorflow_hub, sklearn-crfsuite, sentry-sdk, ruamel.yaml, questionary, python-socketio, pykwalify, jsonschema, httpcore, h5py, cryptography, coloredlogs, botocore, apscheduler, twilio, scikit-learn, s3transfer, rocketchat_API, requests-toolbelt, python-telegram-bot, mattermostwrapper, httpx, fbmessenger, aiohttp, webexteamssdk, slackclient, sanic, boto3, sanic-plugins-framework, tensorflow, sanic-cors, tensorflow-text, rasa-sdk, rasa\n",
            "  Attempting uninstall: typing-extensions\n",
            "    Found existing installation: typing_extensions 4.4.0\n",
            "    Uninstalling typing_extensions-4.4.0:\n",
            "      Successfully uninstalled typing_extensions-4.4.0\n",
            "  Attempting uninstall: tensorflow-estimator\n",
            "    Found existing installation: tensorflow-estimator 2.9.0\n",
            "    Uninstalling tensorflow-estimator-2.9.0:\n",
            "      Successfully uninstalled tensorflow-estimator-2.9.0\n",
            "  Attempting uninstall: regex\n",
            "    Found existing installation: regex 2022.6.2\n",
            "    Uninstalling regex-2022.6.2:\n",
            "      Successfully uninstalled regex-2022.6.2\n",
            "  Attempting uninstall: pytz\n",
            "    Found existing installation: pytz 2022.7\n",
            "    Uninstalling pytz-2022.7:\n",
            "      Successfully uninstalled pytz-2022.7\n",
            "  Attempting uninstall: chardet\n",
            "    Found existing installation: chardet 4.0.0\n",
            "    Uninstalling chardet-4.0.0:\n",
            "      Successfully uninstalled chardet-4.0.0\n",
            "  Attempting uninstall: urllib3\n",
            "    Found existing installation: urllib3 1.24.3\n",
            "    Uninstalling urllib3-1.24.3:\n",
            "      Successfully uninstalled urllib3-1.24.3\n",
            "  Attempting uninstall: tqdm\n",
            "    Found existing installation: tqdm 4.64.1\n",
            "    Uninstalling tqdm-4.64.1:\n",
            "      Successfully uninstalled tqdm-4.64.1\n",
            "  Attempting uninstall: SQLAlchemy\n",
            "    Found existing installation: SQLAlchemy 1.4.45\n",
            "    Uninstalling SQLAlchemy-1.4.45:\n",
            "      Successfully uninstalled SQLAlchemy-1.4.45\n",
            "  Attempting uninstall: pymongo\n",
            "    Found existing installation: pymongo 4.3.3\n",
            "    Uninstalling pymongo-4.3.3:\n",
            "      Successfully uninstalled pymongo-4.3.3\n",
            "  Attempting uninstall: pydot\n",
            "    Found existing installation: pydot 1.3.0\n",
            "    Uninstalling pydot-1.3.0:\n",
            "      Successfully uninstalled pydot-1.3.0\n",
            "  Attempting uninstall: packaging\n",
            "    Found existing installation: packaging 21.3\n",
            "    Uninstalling packaging-21.3:\n",
            "      Successfully uninstalled packaging-21.3\n",
            "  Attempting uninstall: numpy\n",
            "    Found existing installation: numpy 1.21.6\n",
            "    Uninstalling numpy-1.21.6:\n",
            "      Successfully uninstalled numpy-1.21.6\n",
            "  Attempting uninstall: networkx\n",
            "    Found existing installation: networkx 2.8.8\n",
            "    Uninstalling networkx-2.8.8:\n",
            "      Successfully uninstalled networkx-2.8.8\n",
            "  Attempting uninstall: multidict\n",
            "    Found existing installation: multidict 6.0.3\n",
            "    Uninstalling multidict-6.0.3:\n",
            "      Successfully uninstalled multidict-6.0.3\n",
            "  Attempting uninstall: joblib\n",
            "    Found existing installation: joblib 1.2.0\n",
            "    Uninstalling joblib-1.2.0:\n",
            "      Successfully uninstalled joblib-1.2.0\n",
            "  Attempting uninstall: gast\n",
            "    Found existing installation: gast 0.4.0\n",
            "    Uninstalling gast-0.4.0:\n",
            "      Successfully uninstalled gast-0.4.0\n",
            "  Attempting uninstall: dnspython\n",
            "    Found existing installation: dnspython 2.2.1\n",
            "    Uninstalling dnspython-2.2.1:\n",
            "      Successfully uninstalled dnspython-2.2.1\n",
            "  Attempting uninstall: cloudpickle\n",
            "    Found existing installation: cloudpickle 1.5.0\n",
            "    Uninstalling cloudpickle-1.5.0:\n",
            "      Successfully uninstalled cloudpickle-1.5.0\n",
            "  Attempting uninstall: attrs\n",
            "    Found existing installation: attrs 22.2.0\n",
            "    Uninstalling attrs-22.2.0:\n",
            "      Successfully uninstalled attrs-22.2.0\n",
            "  Attempting uninstall: async-timeout\n",
            "    Found existing installation: async-timeout 4.0.2\n",
            "    Uninstalling async-timeout-4.0.2:\n",
            "      Successfully uninstalled async-timeout-4.0.2\n",
            "  Attempting uninstall: absl-py\n",
            "    Found existing installation: absl-py 1.3.0\n",
            "    Uninstalling absl-py-1.3.0:\n",
            "      Successfully uninstalled absl-py-1.3.0\n",
            "  Attempting uninstall: yarl\n",
            "    Found existing installation: yarl 1.8.2\n",
            "    Uninstalling yarl-1.8.2:\n",
            "      Successfully uninstalled yarl-1.8.2\n",
            "  Attempting uninstall: tensorflow-probability\n",
            "    Found existing installation: tensorflow-probability 0.17.0\n",
            "    Uninstalling tensorflow-probability-0.17.0:\n",
            "      Successfully uninstalled tensorflow-probability-0.17.0\n",
            "  Attempting uninstall: tensorflow_hub\n",
            "    Found existing installation: tensorflow-hub 0.12.0\n",
            "    Uninstalling tensorflow-hub-0.12.0:\n",
            "      Successfully uninstalled tensorflow-hub-0.12.0\n",
            "  Attempting uninstall: jsonschema\n",
            "    Found existing installation: jsonschema 4.3.3\n",
            "    Uninstalling jsonschema-4.3.3:\n",
            "      Successfully uninstalled jsonschema-4.3.3\n",
            "  Attempting uninstall: h5py\n",
            "    Found existing installation: h5py 3.1.0\n",
            "    Uninstalling h5py-3.1.0:\n",
            "      Successfully uninstalled h5py-3.1.0\n",
            "  Attempting uninstall: scikit-learn\n",
            "    Found existing installation: scikit-learn 1.0.2\n",
            "    Uninstalling scikit-learn-1.0.2:\n",
            "      Successfully uninstalled scikit-learn-1.0.2\n",
            "  Attempting uninstall: aiohttp\n",
            "    Found existing installation: aiohttp 3.8.3\n",
            "    Uninstalling aiohttp-3.8.3:\n",
            "      Successfully uninstalled aiohttp-3.8.3\n",
            "  Attempting uninstall: tensorflow\n",
            "    Found existing installation: tensorflow 2.9.2\n",
            "    Uninstalling tensorflow-2.9.2:\n",
            "      Successfully uninstalled tensorflow-2.9.2\n",
            "\u001b[31mERROR: pip's dependency resolver does not currently take into account all the packages that are installed. This behaviour is the source of the following dependency conflicts.\n",
            "yellowbrick 1.5 requires scikit-learn>=1.0.0, but you have scikit-learn 0.23.2 which is incompatible.\n",
            "xarray 2022.12.0 requires numpy>=1.20, but you have numpy 1.18.5 which is incompatible.\n",
            "xarray 2022.12.0 requires packaging>=21.3, but you have packaging 20.9 which is incompatible.\n",
            "xarray-einstats 0.4.0 requires numpy>=1.20, but you have numpy 1.18.5 which is incompatible.\n",
            "tifffile 2022.10.10 requires numpy>=1.19.2, but you have numpy 1.18.5 which is incompatible.\n",
            "tables 3.7.0 requires numpy>=1.19.0, but you have numpy 1.18.5 which is incompatible.\n",
            "pydantic 1.10.2 requires typing-extensions>=4.1.0, but you have typing-extensions 3.10.0.2 which is incompatible.\n",
            "plotnine 0.8.0 requires numpy>=1.19.0, but you have numpy 1.18.5 which is incompatible.\n",
            "nltk 3.7 requires regex>=2021.8.3, but you have regex 2020.9.27 which is incompatible.\n",
            "jaxlib 0.3.25+cuda11.cudnn805 requires numpy>=1.20, but you have numpy 1.18.5 which is incompatible.\n",
            "jax 0.3.25 requires numpy>=1.20, but you have numpy 1.18.5 which is incompatible.\n",
            "imbalanced-learn 0.8.1 requires scikit-learn>=0.24, but you have scikit-learn 0.23.2 which is incompatible.\n",
            "httpstan 4.6.1 requires aiohttp<4.0,>=3.7, but you have aiohttp 3.6.3 which is incompatible.\n",
            "distributed 2022.2.1 requires cloudpickle>=1.5.0, but you have cloudpickle 1.4.1 which is incompatible.\n",
            "cmdstanpy 1.0.8 requires numpy>=1.21, but you have numpy 1.18.5 which is incompatible.\u001b[0m\u001b[31m\n",
            "\u001b[0mSuccessfully installed PyJWT-1.7.1 SQLAlchemy-1.3.24 absl-py-0.10.0 aiofiles-22.1.0 aiohttp-3.6.3 apscheduler-3.6.3 async-timeout-3.0.1 async_generator-1.10 attrs-20.2.0 boto3-1.26.45 botocore-1.29.45 chardet-3.0.4 cloudpickle-1.4.1 colorclass-2.2.2 coloredlogs-14.3 colorhash-1.0.4 cryptography-39.0.0 dnspython-1.16.0 docopt-0.6.2 fbmessenger-6.0.0 gast-0.3.3 h11-0.9.0 h5py-2.10.0 httpcore-0.11.1 httptools-0.5.0 httpx-0.15.4 humanfriendly-10.0 jmespath-1.0.1 joblib-0.15.1 jsonpickle-1.4.2 jsonschema-3.2.0 kafka-python-2.0.2 mattermostwrapper-2.2 multidict-4.7.6 networkx-2.5.1 numpy-1.18.5 packaging-20.9 pika-1.1.0 psycopg2-binary-2.8.6 pydot-1.4.2 pykwalify-1.7.0 pymongo-3.10.1 python-crfsuite-0.9.8 python-engineio-3.13.2 python-socketio-4.6.1 python-telegram-bot-12.8 pytz-2020.5 questionary-1.5.2 rasa-2.0.1 rasa-sdk-2.8.6 redis-3.5.3 regex-2020.9.27 requests-toolbelt-0.10.1 rfc3986-1.5.0 rocketchat_API-1.9.1 ruamel.yaml-0.16.13 ruamel.yaml.clib-0.2.7 s3transfer-0.6.0 sanic-20.9.0 sanic-cors-0.10.0.post3 sanic-jwt-1.4.1 sanic-plugins-framework-0.9.5 scikit-learn-0.23.2 sentry-sdk-0.17.8 sklearn-crfsuite-0.3.6 slackclient-2.9.4 sniffio-1.3.0 tensorflow-2.3.4 tensorflow-addons-0.12.0 tensorflow-estimator-2.3.0 tensorflow-probability-0.11.1 tensorflow-text-2.3.0 tensorflow_hub-0.9.0 terminaltables-3.1.10 tqdm-4.50.2 twilio-6.45.4 typing-extensions-3.10.0.2 ujson-3.2.0 urllib3-1.26.13 uvloop-0.14.0 webexteamssdk-1.6.1 websockets-8.1 yarl-1.5.1\n"
          ]
        }
      ],
      "source": [
        "!pip install rasa==2.0.1"
      ]
    },
    {
      "cell_type": "markdown",
      "source": [
        "setelah eksekusi pilihlah \"RESTART RUNTIME\" "
      ],
      "metadata": {
        "id": "o2FU2bwOHGMZ"
      }
    },
    {
      "cell_type": "code",
      "source": [
        "!pip install -U ipython===7.9.0"
      ],
      "metadata": {
        "id": "nFhG2EqR-ceB",
        "outputId": "ff6ec338-565f-4c57-8f3e-ed6162e68060",
        "colab": {
          "base_uri": "https://localhost:8080/"
        }
      },
      "execution_count": 1,
      "outputs": [
        {
          "output_type": "stream",
          "name": "stdout",
          "text": [
            "Looking in indexes: https://pypi.org/simple, https://us-python.pkg.dev/colab-wheels/public/simple/\n",
            "Requirement already satisfied: ipython===7.9.0 in /usr/local/lib/python3.8/dist-packages (7.9.0)\n",
            "Requirement already satisfied: prompt-toolkit<2.1.0,>=2.0.0 in /usr/local/lib/python3.8/dist-packages (from ipython===7.9.0) (2.0.1)\n",
            "Collecting jedi>=0.10\n",
            "  Downloading jedi-0.18.2-py2.py3-none-any.whl (1.6 MB)\n",
            "\u001b[2K     \u001b[90m━━━━━━━━━━━━━━━━━━━━━━━━━━━━━━━━━━━━━━━━\u001b[0m \u001b[32m1.6/1.6 MB\u001b[0m \u001b[31m20.4 MB/s\u001b[0m eta \u001b[36m0:00:00\u001b[0m\n",
            "\u001b[?25hRequirement already satisfied: setuptools>=18.5 in /usr/local/lib/python3.8/dist-packages (from ipython===7.9.0) (57.4.0)\n",
            "Requirement already satisfied: decorator in /usr/local/lib/python3.8/dist-packages (from ipython===7.9.0) (4.4.2)\n",
            "Requirement already satisfied: pickleshare in /usr/local/lib/python3.8/dist-packages (from ipython===7.9.0) (0.7.5)\n",
            "Requirement already satisfied: pygments in /usr/local/lib/python3.8/dist-packages (from ipython===7.9.0) (2.6.1)\n",
            "Requirement already satisfied: pexpect in /usr/local/lib/python3.8/dist-packages (from ipython===7.9.0) (4.8.0)\n",
            "Requirement already satisfied: backcall in /usr/local/lib/python3.8/dist-packages (from ipython===7.9.0) (0.2.0)\n",
            "Requirement already satisfied: traitlets>=4.2 in /usr/local/lib/python3.8/dist-packages (from ipython===7.9.0) (5.7.1)\n",
            "Requirement already satisfied: parso<0.9.0,>=0.8.0 in /usr/local/lib/python3.8/dist-packages (from jedi>=0.10->ipython===7.9.0) (0.8.3)\n",
            "Requirement already satisfied: six>=1.9.0 in /usr/local/lib/python3.8/dist-packages (from prompt-toolkit<2.1.0,>=2.0.0->ipython===7.9.0) (1.15.0)\n",
            "Requirement already satisfied: wcwidth in /usr/local/lib/python3.8/dist-packages (from prompt-toolkit<2.1.0,>=2.0.0->ipython===7.9.0) (0.2.5)\n",
            "Requirement already satisfied: ptyprocess>=0.5 in /usr/local/lib/python3.8/dist-packages (from pexpect->ipython===7.9.0) (0.7.0)\n",
            "Installing collected packages: jedi\n",
            "Successfully installed jedi-0.18.2\n"
          ]
        }
      ]
    },
    {
      "cell_type": "markdown",
      "metadata": {
        "id": "EKxfJiQYIkv9"
      },
      "source": [
        "**Little Changes in Installtion**\n",
        "1. upgrade table from 3.7.0 to 3.6.1\n",
        "2. upgrade ipython to avoid crashing colab session, while doing restart the runtime.\n",
        "\n",
        "After, installing ipython you saw a \"RESTART RUNTIME\" button in \"ipython\" cell output. \n",
        "\n",
        "Click on it to restart the runtime and you are good to go. \n",
        "\n",
        "No need to update anything run as usual.\n"
      ]
    },
    {
      "cell_type": "code",
      "execution_count": 2,
      "metadata": {
        "colab": {
          "base_uri": "https://localhost:8080/"
        },
        "id": "hoGEpudx0Fcn",
        "outputId": "dc5ed4b2-3b14-472d-ed6f-0075c4d52854"
      },
      "outputs": [
        {
          "output_type": "stream",
          "name": "stdout",
          "text": [
            "Looking in indexes: https://pypi.org/simple, https://us-python.pkg.dev/colab-wheels/public/simple/\n",
            "Collecting tables==3.6.1\n",
            "  Downloading tables-3.6.1-cp38-cp38-manylinux1_x86_64.whl (4.3 MB)\n",
            "\u001b[2K     \u001b[90m━━━━━━━━━━━━━━━━━━━━━━━━━━━━━━━━━━━━━━━━\u001b[0m \u001b[32m4.3/4.3 MB\u001b[0m \u001b[31m32.1 MB/s\u001b[0m eta \u001b[36m0:00:00\u001b[0m\n",
            "\u001b[?25hRequirement already satisfied: numexpr>=2.6.2 in /usr/local/lib/python3.8/dist-packages (from tables==3.6.1) (2.8.4)\n",
            "Requirement already satisfied: numpy>=1.9.3 in /usr/local/lib/python3.8/dist-packages (from tables==3.6.1) (1.18.5)\n",
            "Installing collected packages: tables\n",
            "  Attempting uninstall: tables\n",
            "    Found existing installation: tables 3.7.0\n",
            "    Uninstalling tables-3.7.0:\n",
            "      Successfully uninstalled tables-3.7.0\n",
            "Successfully installed tables-3.6.1\n"
          ]
        }
      ],
      "source": [
        "!pip install -U tables==3.6.1"
      ]
    },
    {
      "cell_type": "code",
      "execution_count": 3,
      "metadata": {
        "id": "Vu4CYtxz_-oG"
      },
      "outputs": [],
      "source": [
        "#!pip install -U ipython"
      ]
    },
    {
      "cell_type": "markdown",
      "metadata": {
        "id": "bo-r5gkVH40O"
      },
      "source": [
        "**Click on above \"RESTART RUNTIME\" button**\n",
        "\n",
        "![button.PNG](data:image/png;base64,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)"
      ]
    },
    {
      "cell_type": "code",
      "execution_count": 4,
      "metadata": {
        "id": "4U2Szt_9xE6z"
      },
      "outputs": [],
      "source": [
        "#!python -m spacy download en"
      ]
    },
    {
      "cell_type": "code",
      "execution_count": 5,
      "metadata": {
        "colab": {
          "base_uri": "https://localhost:8080/"
        },
        "id": "CHVBIeez3cyR",
        "outputId": "1d9732a6-f501-4ae8-cfc4-a1aab21575bf"
      },
      "outputs": [
        {
          "output_type": "stream",
          "name": "stdout",
          "text": [
            "Looking in indexes: https://pypi.org/simple, https://us-python.pkg.dev/colab-wheels/public/simple/\n",
            "Collecting nest_asyncio==1.3.3\n",
            "  Downloading nest_asyncio-1.3.3-py3-none-any.whl (4.7 kB)\n",
            "Installing collected packages: nest_asyncio\n",
            "Successfully installed nest_asyncio-1.3.3\n"
          ]
        }
      ],
      "source": [
        "!pip install nest_asyncio==1.3.3"
      ]
    },
    {
      "cell_type": "code",
      "execution_count": 6,
      "metadata": {
        "colab": {
          "base_uri": "https://localhost:8080/"
        },
        "id": "pFVs_ym8EUTy",
        "outputId": "8609d82f-089d-4b7c-84b1-7346e065c5bf"
      },
      "outputs": [
        {
          "output_type": "stream",
          "name": "stdout",
          "text": [
            "\u001b(0lqqqqqqqqqqqqqqqqqqqqqqqqqqqqqqqqqqqqqqqqqqqqqqqqqqqqqqqqqqqqqqqqqqqqqqqqqqqqqqqqk\u001b(B\n",
            "\u001b(0x\u001b(B Rasa Open Source reports anonymous usage telemetry to help improve the product \u001b(0x\u001b(B\n",
            "\u001b(0x\u001b(B for all its users.                                                             \u001b(0x\u001b(B\n",
            "\u001b(0x\u001b(B                                                                                \u001b(0x\u001b(B\n",
            "\u001b(0x\u001b(B If you'd like to opt-out, you can use `rasa telemetry disable`.                \u001b(0x\u001b(B\n",
            "\u001b(0x\u001b(B To learn more, check out https://rasa.com/docs/rasa/telemetry/telemetry.       \u001b(0x\u001b(B\n",
            "\u001b(0mqqqqqqqqqqqqqqqqqqqqqqqqqqqqqqqqqqqqqqqqqqqqqqqqqqqqqqqqqqqqqqqqqqqqqqqqqqqqqqqqj\u001b(B\n",
            "Event loop ready.\n"
          ]
        }
      ],
      "source": [
        "import os\n",
        "import rasa\n",
        "import nest_asyncio\n",
        "\n",
        "nest_asyncio.apply()\n",
        "print(\"Event loop ready.\")"
      ]
    },
    {
      "cell_type": "code",
      "execution_count": 7,
      "metadata": {
        "id": "FZsqX3irEv7O"
      },
      "outputs": [],
      "source": [
        "from rasa.cli.scaffold import create_initial_project"
      ]
    },
    {
      "cell_type": "code",
      "execution_count": 8,
      "metadata": {
        "id": "KnIOywUKE6F5"
      },
      "outputs": [],
      "source": [
        "project = \"test-project\"\n",
        "create_initial_project(project)"
      ]
    },
    {
      "cell_type": "code",
      "execution_count": 9,
      "metadata": {
        "colab": {
          "base_uri": "https://localhost:8080/"
        },
        "id": "PjxVHRJCE-u5",
        "outputId": "39d1c115-5a08-4447-e9d4-40e4d3aabe75"
      },
      "outputs": [
        {
          "output_type": "stream",
          "name": "stdout",
          "text": [
            "['tests', 'credentials.yml', 'endpoints.yml', 'actions', 'domain.yml', 'config.yml', 'data']\n"
          ]
        }
      ],
      "source": [
        "# move into project directory and show files\n",
        "os.chdir(project)\n",
        "print(os.listdir(\".\"))"
      ]
    },
    {
      "cell_type": "code",
      "execution_count": 13,
      "metadata": {
        "colab": {
          "base_uri": "https://localhost:8080/"
        },
        "id": "5N_1uA1KPkBt",
        "outputId": "3349867f-3df6-4618-d482-e48198d95dce"
      },
      "outputs": [
        {
          "output_type": "stream",
          "name": "stdout",
          "text": [
            "config.yml data/ domain.yml models/\n"
          ]
        }
      ],
      "source": [
        "config = \"config.yml\"\n",
        "training_files = \"data/\"\n",
        "domain = \"domain.yml\"\n",
        "output = \"models/\"\n",
        "print(config, training_files, domain, output)"
      ]
    },
    {
      "cell_type": "markdown",
      "metadata": {
        "id": "4NeZbYh0Jc3o"
      },
      "source": [
        "### Sometime it may not run on first go. So, try to execute below line 3 time and it work fine. It is bug in rasa."
      ]
    },
    {
      "cell_type": "code",
      "execution_count": 14,
      "metadata": {
        "colab": {
          "base_uri": "https://localhost:8080/"
        },
        "id": "PrdOIlziPxEo",
        "outputId": "270d7209-a3eb-4535-b073-733952419caa"
      },
      "outputs": [
        {
          "output_type": "stream",
          "name": "stdout",
          "text": [
            "\u001b[94mThe configuration for policies and pipeline was chosen automatically. It was written into the config file at 'config.yml'.\u001b[0m\n"
          ]
        },
        {
          "output_type": "stream",
          "name": "stderr",
          "text": [
            "\u001b[93m/usr/local/lib/python3.8/dist-packages/rasa/shared/utils/io.py:89: UserWarning: Issue found in 'data/stories.yml': \n",
            "Found intent 'tanya_sembilan' in stories which is not part of the domain.\n",
            "  More info at https://rasa.com/docs/rasa/stories\n",
            "\u001b[0m"
          ]
        },
        {
          "output_type": "stream",
          "name": "stdout",
          "text": [
            "\u001b[94mTraining NLU model...\u001b[0m\n"
          ]
        },
        {
          "output_type": "stream",
          "name": "stderr",
          "text": [
            "Epochs: 100%|██████████| 100/100 [01:06<00:00,  1.51it/s, t_loss=1.610, i_acc=0.986]\n"
          ]
        },
        {
          "output_type": "stream",
          "name": "stdout",
          "text": [
            "\u001b[94mNLU model training completed.\u001b[0m\n",
            "\u001b[94mTraining Core model...\u001b[0m\n"
          ]
        },
        {
          "output_type": "stream",
          "name": "stderr",
          "text": [
            "Processed story blocks: 100%|██████████| 10/10 [00:00<00:00, 378.07it/s, # trackers=1]\n",
            "Processed story blocks: 100%|██████████| 10/10 [00:00<00:00, 136.31it/s, # trackers=10]\n",
            "Processed story blocks: 100%|██████████| 10/10 [00:00<00:00, 60.99it/s, # trackers=50]\n",
            "Processed story blocks: 100%|██████████| 10/10 [00:00<00:00, 53.71it/s, # trackers=50]\n",
            "Processed rules: 100%|██████████| 2/2 [00:00<00:00, 287.06it/s, # trackers=1]\n",
            "Processed trackers: 100%|██████████| 10/10 [00:00<00:00, 132.50it/s, # actions=25]\n",
            "Processed actions: 25it [00:00, 465.92it/s, # examples=25]\n",
            "Processed trackers:  99%|█████████▉| 504/510 [00:19<00:00, 24.83it/s, # actions=243]\n",
            "Epochs: 100%|██████████| 100/100 [00:21<00:00,  4.65it/s, t_loss=1.230, loss=1.002, acc=0.996]\n",
            "Processed trackers: 100%|██████████| 2/2 [00:00<00:00, 97.10it/s, # actions=5]\n",
            "Processed actions: 5it [00:00, 399.85it/s, # examples=4]\n",
            "Processed trackers: 100%|██████████| 10/10 [00:00<00:00, 108.12it/s, # actions=25]\n",
            "Processed trackers: 100%|██████████| 12/12 [00:00<00:00, 591.92it/s]\n"
          ]
        },
        {
          "output_type": "stream",
          "name": "stdout",
          "text": [
            "\u001b[94mCore model training completed.\u001b[0m\n",
            "\u001b[92mYour Rasa model is trained and saved at '/content/test-project/models/20230109-094515.tar.gz'.\u001b[0m\n",
            "models/20230109-094515.tar.gz\n"
          ]
        }
      ],
      "source": [
        "model_path = rasa.train(domain, config, [training_files], output)\n",
        "print(model_path)"
      ]
    },
    {
      "cell_type": "code",
      "execution_count": 15,
      "metadata": {
        "colab": {
          "base_uri": "https://localhost:8080/",
          "height": 784
        },
        "id": "--XV_jksm6mN",
        "outputId": "7589feaf-5a67-48cd-ad85-a159592ea251"
      },
      "outputs": [
        {
          "output_type": "stream",
          "name": "stdout",
          "text": [
            "Your bot is ready to talk! Type your messages here or send '/stop'.\n",
            "hai\n",
            "\u001b[92mHalo,Selamat datang di Chatbot!\n",
            "Informasi apa yang ingin anda tanyakan seputar stunting?\u001b[0m\n",
            "selamat pagi\n",
            "\u001b[92mHalo,Selamat datang di Chatbot!\n",
            "Informasi apa yang ingin anda tanyakan seputar stunting?\u001b[0m\n",
            "adakah tips untuk mencegah stunting?\n",
            "\u001b[92mSayangnya tidak ada cara yang cepat, namun ada cara yang mudah yang harus dilakukan bertahun-tahun. \n",
            "Pencegahan stunting adalah perjalanan yang cukup panjang dari mempersiapkan remaja putri sebelum \n",
            "menempuh kehamilan, perencanaan keluarga dan kehamilan yang matang, menjaga kehamilan yang sehat, nutrisi \n",
            "saat hamil dan menyusui, manajemen laktasi yang baik, manajemen MPASI yang adekuat, mencegah penyakit \n",
            "dengan imunisasi yang LENGKAP dan pemantauan pertumbuhan anak terus-menerus. Jadi tidak ada cara cepat.\u001b[0m\n",
            "Informasi apa yang ingin anda tanyakan seputar stunting?\n",
            "\u001b[92mNutrisi untuk anak di atas 2 tahun mengikuti aturan “my plate” terdiri dari ¼ sayuran, ¼ buah, ¼ karbohidrat (grain) dan ¼ protein. Pilih protein hewani dan berbagai jenis sayuran berwarna-warni.\u001b[0m\n",
            "Berat badan dan tinggi badan yang “kecil”, bagaimana membedakan stunting atau genetik (keturunan karena ayah ibu juga kecil)?\n",
            "\u001b[92mStunting adalah keadaan pendek yang khas disebabkan oleh gangguan nutrisi, infeksi berulang yang tidak tertangani dalam jangka waktu yang lama.\u001b[0m\n"
          ]
        },
        {
          "output_type": "display_data",
          "data": {
            "text/html": [
              "<img src=\"https://p2ptm.kemkes.go.id/uploads/VHcrbkVobjRzUDN3UCs4eUJ0dVBndz09/2017/stunting_01.pngg\"/>"
            ],
            "text/plain": [
              "<IPython.core.display.Image object>"
            ]
          },
          "metadata": {}
        },
        {
          "output_type": "stream",
          "name": "stdout",
          "text": [
            "Pertumbuhan berat badan melambat dan cenderung tidak naik, apakah stunting?\n",
            "\u001b[92mBUKAN, stunting adalah ukuran tinggi badan yaitu pendek dibandingkan dengan anak seusianya. Stunting \n",
            "disebabkan oleh malnutrisi yang berlangsung lama, oleh karena itu berat badan yang tidak naik merupakan awal \n",
            "menuju kepada stunting, ayo segera diperbaiki.\u001b[0m\n",
            "Apakah vitamin/ suplemen / minyak ikan dapat mencegah stunting?\n",
            "\u001b[92mStunting dapat dicegah dengan pemberian nutrisi yang tepat. Nutrisi pembangun tumbuh adalah makronutrien \n",
            "yang terdiri dari Karbohidrat, protein dan lemak. Sedangkan vitamin dan mineral merupakan mikronutrien yang \n",
            "merupakan zat pendukung, bukan pembangun. Vitamin dan mineral terbaik berasal dari makanan, bukan dari \n",
            "apotek. Tidak ada vitamin dan suplemen pencegah stunting.\u001b[0m\n",
            "Bagaimana menilai pertumbuhan dan perkembangan bayi prematur?\n",
            "\u001b[92mPertumbuhan bayi prematur dipantau menggunakan kurva Fenton sampai usia koreksi 10 minggu, kemudian pindah ke kurva WHO. \n",
            "Sedangkan perkembangan (verbal, motoric halus dan kasar) menggunakan usia koreksi sampai usia 2 tahun, lalu dianggap sama dengan anak lain yang seusianya.\u001b[0m\n",
            "Bagaimana pemberian zat besi pada bayi di bawah 12 bulan?\n",
            "\u001b[92mStunting adalah keadaan pendek yang khas disebabkan oleh gangguan nutrisi, infeksi berulang yang tidak tertangani dalam jangka waktu yang lama.\u001b[0m\n"
          ]
        },
        {
          "output_type": "display_data",
          "data": {
            "text/html": [
              "<img src=\"https://p2ptm.kemkes.go.id/uploads/VHcrbkVobjRzUDN3UCs4eUJ0dVBndz09/2017/stunting_01.pngg\"/>"
            ],
            "text/plain": [
              "<IPython.core.display.Image object>"
            ]
          },
          "metadata": {}
        },
        {
          "name": "stdout",
          "output_type": "stream",
          "text": [
            "Ibu hamil defisiensi besi, bagaimana mengatasinya?\n"
          ]
        },
        {
          "output_type": "stream",
          "name": "stderr",
          "text": [
            "\u001b[93m/usr/local/lib/python3.8/dist-packages/rasa/shared/utils/io.py:89: UserWarning: Interpreter parsed an intent 'tanya_sembilan' which is not defined in the domain. Please make sure all intents are listed in the domain.\n",
            "  More info at https://rasa.com/docs/rasa/domain\n",
            "\u001b[0m"
          ]
        },
        {
          "name": "stdout",
          "output_type": "stream",
          "text": [
            "\u001b[92mPencegahan anemia pada ibu hamil harus dilakukan sebelum hamil. Jika anemia sudah terjadi saat hamil maka \n",
            "kondisi ini sudah terlambat, sehingga harus diatasi segera, pada umumnya dokter kandungan akan memberikan \n",
            "suplemen besi tergantung pada derajat keparahan defisiensinya (dapat berupa infus zat besi, suplemen minum).\n",
            " Namun perlu diingat, penyebab utama defisiensi besi adalah asupan besi yang kurang sehingga wajib mengubah pola makan sehingga tidak terulang di saat fase menyusui.\u001b[0m\n",
            "/stop\n"
          ]
        }
      ],
      "source": [
        "from rasa.jupyter import chat\n",
        "\n",
        "endpoints = 'endpoints.yml'\n",
        "\n",
        "chat(model_path, endpoints)"
      ]
    },
    {
      "cell_type": "code",
      "execution_count": null,
      "metadata": {
        "id": "RUCSgxbCo1Cq",
        "colab": {
          "base_uri": "https://localhost:8080/"
        },
        "outputId": "54405d83-9fd8-4c1d-a3e6-900daf10047e"
      },
      "outputs": [
        {
          "name": "stdout",
          "output_type": "stream",
          "text": [
            "Your bot is ready to talk! Type your messages here or send '/stop'.\n",
            "selamat malam\n",
            "\u001b[92mHalo,Selamat datang di Chatbot!\n",
            "Informasi apa yang ingin anda tanyakan seputar stunting?\u001b[0m\n",
            "apakah saya berbicara dengan bot?\n",
            "\u001b[92mSaya adalah Chatbot yang di buat oleh Rafli Nur Fadhillah Panca (20.10.53.0011)\u001b[0m\n",
            "apakah vitamin dapat mencegah stunting?\n",
            "\u001b[92mStunting dapat dicegah dengan pemberian nutrisi yang tepat. Nutrisi pembangun tumbuh adalah makronutrien \n",
            "yang terdiri dari Karbohidrat, protein dan lemak. Sedangkan vitamin dan mineral merupakan mikronutrien yang \n",
            "merupakan zat pendukung, bukan pembangun. Vitamin dan mineral terbaik berasal dari makanan, bukan dari \n",
            "apotek. Tidak ada vitamin dan suplemen pencegah stunting.\u001b[0m\n",
            "apakah suplemen dapat mencegah stunting?\n",
            "\u001b[92mStunting dapat dicegah dengan pemberian nutrisi yang tepat. Nutrisi pembangun tumbuh adalah makronutrien \n",
            "yang terdiri dari Karbohidrat, protein dan lemak. Sedangkan vitamin dan mineral merupakan mikronutrien yang \n",
            "merupakan zat pendukung, bukan pembangun. Vitamin dan mineral terbaik berasal dari makanan, bukan dari \n",
            "apotek. Tidak ada vitamin dan suplemen pencegah stunting.\u001b[0m\n",
            "adakah cara tips mencegah stunting?\n",
            "\u001b[92mSayangnya tidak ada cara yang cepat, namun ada cara yang mudah yang harus dilakukan bertahun-tahun. \n",
            "Pencegahan stunting adalah perjalanan yang cukup panjang dari mempersiapkan remaja putri sebelum \n",
            "menempuh kehamilan, perencanaan keluarga dan kehamilan yang matang, menjaga kehamilan yang sehat, nutrisi \n",
            "saat hamil dan menyusui, manajemen laktasi yang baik, manajemen MPASI yang adekuat, mencegah penyakit \n",
            "dengan imunisasi yang LENGKAP dan pemantauan pertumbuhan anak terus-menerus. Jadi tidak ada cara cepat.\u001b[0m\n",
            "/stop\n"
          ]
        }
      ],
      "source": [
        "chat(model_path, endpoints)"
      ]
    }
  ],
  "metadata": {
    "colab": {
      "provenance": []
    },
    "kernelspec": {
      "display_name": "Python 3",
      "name": "python3"
    }
  },
  "nbformat": 4,
  "nbformat_minor": 0
}